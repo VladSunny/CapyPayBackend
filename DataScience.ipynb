{
 "cells": [
  {
   "cell_type": "code",
   "execution_count": 3,
   "id": "60f661be",
   "metadata": {},
   "outputs": [],
   "source": [
    "from supabase import create_client, Client\n",
    "import os\n",
    "\n",
    "supabase_url = os.getenv(\"SUPABASE_URL\")\n",
    "supabase_key = os.getenv(\"SUPABASE_KEY\")\n",
    "\n",
    "supabase: Client = create_client(supabase_url, supabase_key)"
   ]
  },
  {
   "cell_type": "code",
   "execution_count": 4,
   "id": "aaea1655",
   "metadata": {},
   "outputs": [],
   "source": [
    "import pandas as pd"
   ]
  },
  {
   "cell_type": "code",
   "execution_count": 5,
   "id": "fdf55c21",
   "metadata": {},
   "outputs": [],
   "source": [
    "response = (\n",
    "    supabase.table(\"Payments\")\n",
    "    .select(\"*\")\n",
    "    .csv()\n",
    "    .execute()\n",
    ")"
   ]
  },
  {
   "cell_type": "code",
   "execution_count": 6,
   "id": "16df84db",
   "metadata": {},
   "outputs": [
    {
     "data": {
      "text/plain": [
       "'id,created_at,uuid,product_name,quantity,price,purchase_date,tags\\n34,\"2025-04-12 12:13:44.367295+00\",47823327-2b0f-48c8-9513-614c3ab5d61a,Молоко,2,3,2023-10-01,\"{еда,молочные}\"\\n35,\"2025-04-12 12:13:44.367295+00\",47823327-2b0f-48c8-9513-614c3ab5d61a,Хлеб,1,1,2023-10-01,\"{еда,хлебобулочные}\"\\n36,\"2025-04-12 12:13:44.367295+00\",47823327-2b0f-48c8-9513-614c3ab5d61a,Яблоки,3,2,2023-10-02,\"{фрукты,съедобное}\"\\n37,\"2025-04-12 12:14:20.19878+00\",47823327-2b0f-48c8-9513-614c3ab5d61a,Молоко,2,200,2025-04-12,{food}'"
      ]
     },
     "execution_count": 6,
     "metadata": {},
     "output_type": "execute_result"
    }
   ],
   "source": [
    "response.data"
   ]
  },
  {
   "cell_type": "code",
   "execution_count": 7,
   "id": "729681e8",
   "metadata": {},
   "outputs": [],
   "source": [
    "from io import StringIO"
   ]
  },
  {
   "cell_type": "code",
   "execution_count": 8,
   "id": "281a6a68",
   "metadata": {},
   "outputs": [
    {
     "data": {
      "text/html": [
       "<div>\n",
       "<style scoped>\n",
       "    .dataframe tbody tr th:only-of-type {\n",
       "        vertical-align: middle;\n",
       "    }\n",
       "\n",
       "    .dataframe tbody tr th {\n",
       "        vertical-align: top;\n",
       "    }\n",
       "\n",
       "    .dataframe thead th {\n",
       "        text-align: right;\n",
       "    }\n",
       "</style>\n",
       "<table border=\"1\" class=\"dataframe\">\n",
       "  <thead>\n",
       "    <tr style=\"text-align: right;\">\n",
       "      <th></th>\n",
       "      <th>uuid</th>\n",
       "      <th>product_name</th>\n",
       "      <th>quantity</th>\n",
       "      <th>price</th>\n",
       "      <th>purchase_date</th>\n",
       "      <th>tags</th>\n",
       "    </tr>\n",
       "    <tr>\n",
       "      <th>id</th>\n",
       "      <th></th>\n",
       "      <th></th>\n",
       "      <th></th>\n",
       "      <th></th>\n",
       "      <th></th>\n",
       "      <th></th>\n",
       "    </tr>\n",
       "  </thead>\n",
       "  <tbody>\n",
       "    <tr>\n",
       "      <th>34</th>\n",
       "      <td>47823327-2b0f-48c8-9513-614c3ab5d61a</td>\n",
       "      <td>Молоко</td>\n",
       "      <td>2</td>\n",
       "      <td>3</td>\n",
       "      <td>2023-10-01</td>\n",
       "      <td>{еда,молочные}</td>\n",
       "    </tr>\n",
       "    <tr>\n",
       "      <th>35</th>\n",
       "      <td>47823327-2b0f-48c8-9513-614c3ab5d61a</td>\n",
       "      <td>Хлеб</td>\n",
       "      <td>1</td>\n",
       "      <td>1</td>\n",
       "      <td>2023-10-01</td>\n",
       "      <td>{еда,хлебобулочные}</td>\n",
       "    </tr>\n",
       "    <tr>\n",
       "      <th>36</th>\n",
       "      <td>47823327-2b0f-48c8-9513-614c3ab5d61a</td>\n",
       "      <td>Яблоки</td>\n",
       "      <td>3</td>\n",
       "      <td>2</td>\n",
       "      <td>2023-10-02</td>\n",
       "      <td>{фрукты,съедобное}</td>\n",
       "    </tr>\n",
       "    <tr>\n",
       "      <th>37</th>\n",
       "      <td>47823327-2b0f-48c8-9513-614c3ab5d61a</td>\n",
       "      <td>Молоко</td>\n",
       "      <td>2</td>\n",
       "      <td>200</td>\n",
       "      <td>2025-04-12</td>\n",
       "      <td>{food}</td>\n",
       "    </tr>\n",
       "  </tbody>\n",
       "</table>\n",
       "</div>"
      ],
      "text/plain": [
       "                                    uuid product_name  quantity  price  \\\n",
       "id                                                                       \n",
       "34  47823327-2b0f-48c8-9513-614c3ab5d61a       Молоко         2      3   \n",
       "35  47823327-2b0f-48c8-9513-614c3ab5d61a         Хлеб         1      1   \n",
       "36  47823327-2b0f-48c8-9513-614c3ab5d61a       Яблоки         3      2   \n",
       "37  47823327-2b0f-48c8-9513-614c3ab5d61a       Молоко         2    200   \n",
       "\n",
       "   purchase_date                 tags  \n",
       "id                                     \n",
       "34    2023-10-01       {еда,молочные}  \n",
       "35    2023-10-01  {еда,хлебобулочные}  \n",
       "36    2023-10-02   {фрукты,съедобное}  \n",
       "37    2025-04-12               {food}  "
      ]
     },
     "execution_count": 8,
     "metadata": {},
     "output_type": "execute_result"
    }
   ],
   "source": [
    "df = pd.read_csv(StringIO(response.data), index_col=0, parse_dates=['purchase_date'])\n",
    "df.drop(columns=['created_at'], inplace=True)\n",
    "df"
   ]
  },
  {
   "cell_type": "code",
   "execution_count": 9,
   "id": "db224480",
   "metadata": {},
   "outputs": [
    {
     "data": {
      "text/plain": [
       "uuid                     object\n",
       "product_name             object\n",
       "quantity                  int64\n",
       "price                     int64\n",
       "purchase_date    datetime64[ns]\n",
       "tags                     object\n",
       "dtype: object"
      ]
     },
     "execution_count": 9,
     "metadata": {},
     "output_type": "execute_result"
    }
   ],
   "source": [
    "df.dtypes"
   ]
  },
  {
   "cell_type": "code",
   "execution_count": 10,
   "id": "18db44d7",
   "metadata": {},
   "outputs": [],
   "source": [
    "test_uuid = \"47823327-2b0f-48c8-9513-614c3ab5d61a\""
   ]
  },
  {
   "cell_type": "code",
   "execution_count": 11,
   "id": "3e6784a1",
   "metadata": {},
   "outputs": [
    {
     "data": {
      "text/html": [
       "<div>\n",
       "<style scoped>\n",
       "    .dataframe tbody tr th:only-of-type {\n",
       "        vertical-align: middle;\n",
       "    }\n",
       "\n",
       "    .dataframe tbody tr th {\n",
       "        vertical-align: top;\n",
       "    }\n",
       "\n",
       "    .dataframe thead th {\n",
       "        text-align: right;\n",
       "    }\n",
       "</style>\n",
       "<table border=\"1\" class=\"dataframe\">\n",
       "  <thead>\n",
       "    <tr style=\"text-align: right;\">\n",
       "      <th></th>\n",
       "      <th>product_name</th>\n",
       "      <th>purchase_date</th>\n",
       "      <th>quantity</th>\n",
       "      <th>price</th>\n",
       "    </tr>\n",
       "  </thead>\n",
       "  <tbody>\n",
       "    <tr>\n",
       "      <th>0</th>\n",
       "      <td>Молоко</td>\n",
       "      <td>2023-10-01</td>\n",
       "      <td>2</td>\n",
       "      <td>3</td>\n",
       "    </tr>\n",
       "    <tr>\n",
       "      <th>2</th>\n",
       "      <td>Хлеб</td>\n",
       "      <td>2023-10-01</td>\n",
       "      <td>1</td>\n",
       "      <td>1</td>\n",
       "    </tr>\n",
       "    <tr>\n",
       "      <th>3</th>\n",
       "      <td>Яблоки</td>\n",
       "      <td>2023-10-02</td>\n",
       "      <td>3</td>\n",
       "      <td>2</td>\n",
       "    </tr>\n",
       "    <tr>\n",
       "      <th>1</th>\n",
       "      <td>Молоко</td>\n",
       "      <td>2025-04-12</td>\n",
       "      <td>2</td>\n",
       "      <td>200</td>\n",
       "    </tr>\n",
       "  </tbody>\n",
       "</table>\n",
       "</div>"
      ],
      "text/plain": [
       "  product_name purchase_date  quantity  price\n",
       "0       Молоко    2023-10-01         2      3\n",
       "2         Хлеб    2023-10-01         1      1\n",
       "3       Яблоки    2023-10-02         3      2\n",
       "1       Молоко    2025-04-12         2    200"
      ]
     },
     "execution_count": 11,
     "metadata": {},
     "output_type": "execute_result"
    }
   ],
   "source": [
    "tmp = df[df['uuid'] == test_uuid][['product_name', 'quantity', 'price', 'purchase_date']]\n",
    "tmp = tmp.groupby(['product_name', 'purchase_date']).sum().reset_index().sort_values(by='purchase_date')\n",
    "\n",
    "tmp"
   ]
  },
  {
   "cell_type": "code",
   "execution_count": 12,
   "id": "a5b32ab2",
   "metadata": {},
   "outputs": [
    {
     "data": {
      "text/plain": [
       "[Timestamp('2023-10-01 00:00:00'),\n",
       " Timestamp('2023-10-02 00:00:00'),\n",
       " Timestamp('2025-04-12 00:00:00')]"
      ]
     },
     "execution_count": 12,
     "metadata": {},
     "output_type": "execute_result"
    }
   ],
   "source": [
    "tmp['purchase_date'].unique().tolist()"
   ]
  },
  {
   "cell_type": "code",
   "execution_count": 13,
   "id": "2fc47534",
   "metadata": {},
   "outputs": [
    {
     "name": "stdout",
     "output_type": "stream",
     "text": [
      "{\n",
      "    \"quantity\": {\n",
      "        \"labels\": [\n",
      "            \"2023-10-01\",\n",
      "            \"2023-10-02\",\n",
      "            \"2025-04-12\"\n",
      "        ],\n",
      "        \"datasets\": [\n",
      "            {\n",
      "                \"label\": \"\\u041c\\u043e\\u043b\\u043e\\u043a\\u043e\",\n",
      "                \"data\": [\n",
      "                    2,\n",
      "                    0,\n",
      "                    2\n",
      "                ]\n",
      "            },\n",
      "            {\n",
      "                \"label\": \"\\u0425\\u043b\\u0435\\u0431\",\n",
      "                \"data\": [\n",
      "                    1,\n",
      "                    0,\n",
      "                    0\n",
      "                ]\n",
      "            },\n",
      "            {\n",
      "                \"label\": \"\\u042f\\u0431\\u043b\\u043e\\u043a\\u0438\",\n",
      "                \"data\": [\n",
      "                    0,\n",
      "                    3,\n",
      "                    0\n",
      "                ]\n",
      "            }\n",
      "        ]\n",
      "    },\n",
      "    \"price\": {\n",
      "        \"labels\": [\n",
      "            \"2023-10-01\",\n",
      "            \"2023-10-02\",\n",
      "            \"2025-04-12\"\n",
      "        ],\n",
      "        \"datasets\": [\n",
      "            {\n",
      "                \"label\": \"\\u041c\\u043e\\u043b\\u043e\\u043a\\u043e\",\n",
      "                \"data\": [\n",
      "                    3,\n",
      "                    0,\n",
      "                    200\n",
      "                ]\n",
      "            },\n",
      "            {\n",
      "                \"label\": \"\\u0425\\u043b\\u0435\\u0431\",\n",
      "                \"data\": [\n",
      "                    1,\n",
      "                    0,\n",
      "                    0\n",
      "                ]\n",
      "            },\n",
      "            {\n",
      "                \"label\": \"\\u042f\\u0431\\u043b\\u043e\\u043a\\u0438\",\n",
      "                \"data\": [\n",
      "                    0,\n",
      "                    2,\n",
      "                    0\n",
      "                ]\n",
      "            }\n",
      "        ]\n",
      "    }\n",
      "}\n"
     ]
    }
   ],
   "source": [
    "import pandas as pd\n",
    "import json\n",
    "\n",
    "# Предположим, что tmp уже существует\n",
    "# tmp = df[df['uuid'] == test_uuid][['product_name', 'quantity', 'price', 'purchase_date']]\n",
    "# tmp = tmp.groupby(['product_name', 'purchase_date']).sum()\n",
    "\n",
    "# Сброс индекса, чтобы сделать product_name и purchase_date обычными колонками\n",
    "tmp_reset = tmp.reset_index()\n",
    "\n",
    "# Создание списка уникальных дат\n",
    "labels = tmp_reset['purchase_date'].astype(str).unique().tolist()\n",
    "\n",
    "# Подготовка данных для Quantity\n",
    "quantity_datasets = []\n",
    "for product_name, group in tmp_reset.groupby('product_name'):\n",
    "    quantity_datasets.append({\n",
    "        \"label\": product_name,\n",
    "        \"data\": group.set_index('purchase_date')['quantity'].reindex(labels, fill_value=0).tolist()\n",
    "    })\n",
    "\n",
    "# Подготовка данных для Price\n",
    "price_datasets = []\n",
    "for product_name, group in tmp_reset.groupby('product_name'):\n",
    "    price_datasets.append({\n",
    "        \"label\": product_name,\n",
    "        \"data\": group.set_index('purchase_date')['price'].reindex(labels, fill_value=0).tolist()\n",
    "    })\n",
    "\n",
    "# Формирование финального JSON\n",
    "chart_data = {\n",
    "    \"quantity\": {\n",
    "        \"labels\": labels,\n",
    "        \"datasets\": quantity_datasets\n",
    "    },\n",
    "    \"price\": {\n",
    "        \"labels\": labels,\n",
    "        \"datasets\": price_datasets\n",
    "    }\n",
    "}\n",
    "\n",
    "# Вывод JSON в читаемом формате\n",
    "print(json.dumps(chart_data, indent=4))"
   ]
  },
  {
   "cell_type": "code",
   "execution_count": null,
   "id": "4e5cccb7",
   "metadata": {},
   "outputs": [
    {
     "data": {
      "text/html": [
       "<div>\n",
       "<style scoped>\n",
       "    .dataframe tbody tr th:only-of-type {\n",
       "        vertical-align: middle;\n",
       "    }\n",
       "\n",
       "    .dataframe tbody tr th {\n",
       "        vertical-align: top;\n",
       "    }\n",
       "\n",
       "    .dataframe thead th {\n",
       "        text-align: right;\n",
       "    }\n",
       "</style>\n",
       "<table border=\"1\" class=\"dataframe\">\n",
       "  <thead>\n",
       "    <tr style=\"text-align: right;\">\n",
       "      <th></th>\n",
       "      <th>price</th>\n",
       "      <th>purchase_date</th>\n",
       "      <th>tags</th>\n",
       "    </tr>\n",
       "  </thead>\n",
       "  <tbody>\n",
       "    <tr>\n",
       "      <th>0</th>\n",
       "      <td>115</td>\n",
       "      <td>2023-07-08</td>\n",
       "      <td>{Рестораны}</td>\n",
       "    </tr>\n",
       "    <tr>\n",
       "      <th>1</th>\n",
       "      <td>1650</td>\n",
       "      <td>2023-07-07</td>\n",
       "      <td>{Фастфуд}</td>\n",
       "    </tr>\n",
       "    <tr>\n",
       "      <th>2</th>\n",
       "      <td>1550</td>\n",
       "      <td>2023-07-05</td>\n",
       "      <td>{Фастфуд}</td>\n",
       "    </tr>\n",
       "    <tr>\n",
       "      <th>3</th>\n",
       "      <td>60</td>\n",
       "      <td>2023-07-04</td>\n",
       "      <td>{Транспорт}</td>\n",
       "    </tr>\n",
       "    <tr>\n",
       "      <th>4</th>\n",
       "      <td>200</td>\n",
       "      <td>2023-07-04</td>\n",
       "      <td>{Отели}</td>\n",
       "    </tr>\n",
       "  </tbody>\n",
       "</table>\n",
       "</div>"
      ],
      "text/plain": [
       "   price purchase_date         tags\n",
       "0    115    2023-07-08  {Рестораны}\n",
       "1   1650    2023-07-07    {Фастфуд}\n",
       "2   1550    2023-07-05    {Фастфуд}\n",
       "3     60    2023-07-04  {Транспорт}\n",
       "4    200    2023-07-04      {Отели}"
      ]
     },
     "execution_count": 39,
     "metadata": {},
     "output_type": "execute_result"
    }
   ],
   "source": [
    "user = pd.read_csv('data/user_1.csv', parse_dates=['real_transaction_dttm'])\n",
    "user['real_transaction_dttm'] = user['real_transaction_dttm'].dt.date\n",
    "user['loyalty_cashback_category_nm'] = user['loyalty_cashback_category_nm'].apply(lambda x: '{' + str(x) + '}')\n",
    "user = user.drop(columns=['account_rk', 'transaction_type_cd'])\n",
    "user.columns = [\"price\", \"purchase_date\", \"tags\"]\n",
    "user['price'] = user['price'].astype(int)\n",
    "user.sample(100).to_csv('data/user_1_capypay.csv', index=False)\n",
    "user.head()"
   ]
  },
  {
   "cell_type": "code",
   "execution_count": null,
   "id": "35869aed",
   "metadata": {},
   "outputs": [],
   "source": []
  }
 ],
 "metadata": {
  "kernelspec": {
   "display_name": "BACK_ENV",
   "language": "python",
   "name": "python3"
  },
  "language_info": {
   "codemirror_mode": {
    "name": "ipython",
    "version": 3
   },
   "file_extension": ".py",
   "mimetype": "text/x-python",
   "name": "python",
   "nbconvert_exporter": "python",
   "pygments_lexer": "ipython3",
   "version": "3.10.16"
  }
 },
 "nbformat": 4,
 "nbformat_minor": 5
}
